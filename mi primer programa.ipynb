{
  "nbformat": 4,
  "nbformat_minor": 0,
  "metadata": {
    "colab": {
      "provenance": [],
      "authorship_tag": "ABX9TyMFgoug9Ly4Ir3k1ksxO2gW",
      "include_colab_link": true
    },
    "kernelspec": {
      "name": "python3",
      "display_name": "Python 3"
    },
    "language_info": {
      "name": "python"
    }
  },
  "cells": [
    {
      "cell_type": "markdown",
      "metadata": {
        "id": "view-in-github",
        "colab_type": "text"
      },
      "source": [
        "<a href=\"https://colab.research.google.com/github/jbandao137/AprendiendoC/blob/main/mi%20primer%20programa.ipynb\" target=\"_parent\"><img src=\"https://colab.research.google.com/assets/colab-badge.svg\" alt=\"Open In Colab\"/></a>"
      ]
    },
    {
      "cell_type": "code",
      "execution_count": 1,
      "metadata": {
        "colab": {
          "base_uri": "https://localhost:8080/"
        },
        "id": "X7BYJxZUBw3h",
        "outputId": "58b02df3-79ee-4618-e6ae-719875dccaec"
      },
      "outputs": [
        {
          "output_type": "stream",
          "name": "stdout",
          "text": [
            "Writing programa1.c\n"
          ]
        }
      ],
      "source": [
        "#aprendiendo C\n",
        "%%writefile programa1.c\n",
        "\n",
        "#include <stdio.h>\n",
        "\n",
        "int main(){\n",
        "\n",
        "  printf(\"Hola mundo\");\n",
        "  return 0;\n",
        "\n",
        "}\n",
        "\n"
      ]
    },
    {
      "cell_type": "code",
      "source": [
        "# prompt: escribe el codigo para complilar y correr el programa1.c\n",
        "!gcc programa1.c -o programa1\n",
        "!./programa1\n"
      ],
      "metadata": {
        "colab": {
          "base_uri": "https://localhost:8080/"
        },
        "id": "MSJuuXbSCYXn",
        "outputId": "42a5834d-120b-4cff-bca0-cf5c62450662"
      },
      "execution_count": 2,
      "outputs": [
        {
          "output_type": "stream",
          "name": "stdout",
          "text": [
            "Hola mundo"
          ]
        }
      ]
    }
  ]
}